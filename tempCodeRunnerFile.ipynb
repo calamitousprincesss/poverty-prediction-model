from sklearn.ensemble import RandomForestClassifier  #random forest classifier
rf_classifier = RandomForestClassifier()
rf_classifier.fit(X_train, y_train_binary)